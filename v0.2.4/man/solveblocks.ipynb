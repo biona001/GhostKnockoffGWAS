{
 "cells": [
  {
   "cell_type": "markdown",
   "metadata": {},
   "source": [
    "# Customizing your own LD files\n",
    "\n",
    "One can customize the `--LD-files` input starting with individual level data stored in VCF or binary PLINK format. This feature is supported by the `solveblock` executable located within `GhostKnockoffGWAS/bin/solveblock`."
   ]
  },
  {
   "cell_type": "markdown",
   "metadata": {},
   "source": [
    "## Command-line documentation of `solveblock` executable\n",
    "\n",
    "Simple run\n",
    "\n",
    "```\n",
    "# VCF format\n",
    "solveblock --file test.vcf.gz --chr 1 --start_bp 10583 --end_bp 1892607 --outdir ./test_LD_files --genome-build 19 \n",
    "\n",
    "# binary PLINK format\n",
    "solveblock --file test.bed --chr 1 --start_bp 10583 --end_bp 1892607 --outdir ./test_LD_files --genome-build 19 \n",
    "```"
   ]
  },
  {
   "cell_type": "markdown",
   "metadata": {},
   "source": [
    "## Required inputs\n",
    "\n",
    "| Option name              | Argument        | Description   |\n",
    "| :---                     |    :----:       |   :---        |\n",
    "| `--file`        | String | A VCF or binary PLINK file storing individual level genotypes. Must end in `.vcf`, `.vcf.gz`, or `.bed`. If a VCF file is used, the ALT field for each record must be unique, i.e. multiallelic records must be split first. Missing genotypes will be imputed by column mean.  |\n",
    "| `--chr`            | Int    | Target chromosome. This MUST be an integer and it must match the `CHROM` field in your VCF/PLINK file. For example, if your VCF file has CHROM field like `chr1`, `CHR1`, or `CHROM1` etc, they must be renamed into `1`.  |\n",
    "| `--start_bp` | Int    | starting basepair (position) |\n",
    "| `--end_bp` | Int    | ending basepair (position) |\n",
    "| `--outdir`          | String | Directory that the output will be stored in (must exist) |\n",
    "| `--genome-build` | Int | human genome build for position of each SNP, must be 19 (hg19) or 38 (hg38) |"
   ]
  },
  {
   "cell_type": "markdown",
   "metadata": {},
   "source": [
    "## Optional inputs\n",
    "\n",
    "| Option name              | Argument         | Description   |\n",
    "| :---                    |    :----:         |   :---     |\n",
    "| `--covfile`        | String | An optional comma- or tab-separated file containing sample covariates (e.g. sex, age, PCs). `.gz` compressed text file is acceptable. These will be used to improve LD estimation. The first row should be a header row. The first column should be sample IDs (not necessary to be in the sample order as genotype files) and all other columns will be used as additional covariates. Note if genotypes are stored in binary PLINK format, then the sample ID column in the covariate file should be FID_IID (that is, the first 2 columns of the .fam file merged by an underscore) (default `\"\"`) |\n",
    "| `--tol`        | Float64 | Convergence tolerlance for group knockoff coordinate descent optimization (default `0.0001`) |\n",
    "| `--min_maf`    | Float64 | Minimum minor allele frequency for a variable to be considered (default `0.01`) |\n",
    "| `--min_hwe`    | Int     | Cutoff for hardy-weinburg equilibrium p-values. Only SNPs with p-value >= `min_hwe` will be included (default `0.0`) |\n",
    "| `--method`     | String  | group knockoff optimization algorithm, choices include `maxent` (defualt), `mvr`, `sdp`, or `equi`. See sec 2 of https://arxiv.org/abs/2310.15069 |\n",
    "| `--linkage`    | String  | Linkage function to use for defining group membership. It defines how the distances between features are aggregated into the distances between groups. Valid choices include `average` (default), `single`, `complete`, `ward`, and `ward_presquared`. Note if `force_contiguous=true`, `linkage` must be `:single`|\n",
    "| `--force_contiguous` | Bool     | whether to force groups to be contiguous (default `false`). Note if `force_contiguous=true`, `linkage` must be `:single`) |\n",
    "| `--group_cor_cutoff`    | Float64    | correlation cutoff value for defining groups (default `0.5`). Value should be between 0 and 1, where larger values correspond to larger groups. |\n",
    "| `--group_rep_cutoff` | Float64 | cutoff value for selecting group-representatives (default `0.5`). Value should be between 0 and 1, where larger values correspond to more representatives per group.  |\n",
    "| `--verbose` | Bool | Whether to print intermediate messages (default `true`) |\n"
   ]
  },
  {
   "cell_type": "markdown",
   "metadata": {},
   "source": [
    "## Output format\n",
    "\n",
    "Calling `solveblock` will create 3 files in the directory `outdir/chr` (the `chr` directory will be created if it doesn't exist, but `outdir` must exist):\n",
    "1. `XXX.h5`:  This contains the following data for region XXX\n",
    "    - `D`: A `p × p` (dense) matrix corresponding to the S matrix for both the\n",
    "        representative and non-representative variables. Knockoff sampling should \n",
    "        use this matrix. \n",
    "    - `S`: Matrix obtained from solving the group knockoff optimization problem \n",
    "        on the representative (group-key) variables.\n",
    "    - `Sigma`: The original `p × p` correlation matrix estimated from `vcffile`\n",
    "    - `SigmaInv`: Inverse of `Sigma`\n",
    "    - `Sigma_reps`: The correlation matrix for the representative variables. This\n",
    "        is the matrix actually used to solve the group-knockoff optimization\n",
    "    - `Sigma_reps_inv`: Inverse of `Sigma_reps`\n",
    "    - `group_reps`: Indices `groups` that are used as representatives (i.e. \n",
    "        group-key variables)\n",
    "    - `groups`: The group membership vector\n",
    "2. `Info_XXX.csv`: This includes information for each variant (chr/pos/etc) present \n",
    "    in the corresponding `.h5` file.\n",
    "3. `summary_XXX.csv`: Summary file for the knockoff optimization problem"
   ]
  },
  {
   "cell_type": "markdown",
   "metadata": {},
   "source": [
    "## Determining `start_bp` and `end_bp`\n",
    "\n",
    "There are 2 options:\n",
    "\n",
    "1. One can defined each start and end position by leveraging existing quasi-independent regions for your target sample. For example, we previously used the European blocks of [ldetect](https://bitbucket.org/nygcresearch/ldetect-data/src/master/). \n",
    "2. Given individual level data, one can compute approximately independent LD blocks directly, see [reference](https://www.ncbi.nlm.nih.gov/pmc/articles/PMC8696101/) and [R software](https://privefl.github.io/bigsnpr/reference/snp_ldsplit.html).\n",
    "\n",
    "For option 2, we provide an [R script](https://github.com/biona001/GhostKnockoffGWAS/blob/main/src/ld_split.R) which can be ran in the terminal (this requires the `R` packages `bigsnpr` and `dplyr`). Usage:\n",
    "\n",
    "```R\n",
    "$ Rscript --vanilla ld_split.R arg1 arg2 arg3 arg4 arg5 arg6\n",
    "```\n",
    "+ `arg1` = chromosome number (must be an integer)\n",
    "+ `arg2` = path to PLINK binary file (must end in `.bed` extension)\n",
    "+ `arg3` = path to FBM file (without extensions. If this file doesn't exist, it will be generated)\n",
    "+ `arg4` = path to output file \n",
    "+ `arg5` = `thr_r2`, this is the `thr_r2` used by snp_ldsplit. All correlation smaller than `thr_r2` are set to 0\n",
    "+ `arg6` = `max_r2`, this is the `max_r2` used by snp_ldsplit. This is the maximum acceptable correlation for SNPs in different blocks. \n",
    "\n",
    "For example, \n",
    "\n",
    "```R\n",
    "$ Rscript --vanilla ld_split.R 1 my_plink.bed my_plink_fbm regions.txt 0.01 0.3\n",
    "```"
   ]
  },
  {
   "cell_type": "markdown",
   "metadata": {},
   "source": [
    "## A note on run-time\n",
    "\n",
    "Because VCF files are plain text files, it is inherently slow to read even if it is indexed. Thus, we recommend one to convert VCFs to binary PLINK format via [PLINK 1.9](https://www.cog-genomics.org/plink/):\n",
    "\n",
    "```\n",
    "$plink_exe --vcf $vcffile --double-id --keep-allele-order --real-ref-alleles --make-bed --out $plinkprefix\n",
    "```\n",
    "Note the `--keep-allele-order` is crucial to prevent PLINK from randomly converting the minor allele into A1. "
   ]
  }
 ],
 "metadata": {
  "kernelspec": {
   "display_name": "Julia 1.11.1",
   "language": "julia",
   "name": "julia-1.11"
  },
  "language_info": {
   "file_extension": ".jl",
   "mimetype": "application/julia",
   "name": "julia",
   "version": "1.10.3"
  }
 },
 "nbformat": 4,
 "nbformat_minor": 4
}
