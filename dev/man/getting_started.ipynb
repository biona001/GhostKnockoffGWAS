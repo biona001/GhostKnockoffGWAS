{
 "cells": [
  {
   "cell_type": "markdown",
   "metadata": {},
   "source": [
    "# Getting started with Ghost Knockoff GWAS analysis\n",
    "\n",
    "This tutorial is for generating *Ghost Knockoffs* for analyzing summary statistics from a genome-wide association studies (GWAS). The methodology is described in the following papers\n",
    "\n",
    "> He Z, Liu L, Belloy ME, Le Guen Y, Sossin A, Liu X, Qi X, Ma S, Gyawali PK, Wyss-Coray T, Tang H. GhostKnockoff inference empowers identification of putative causal variants in genome-wide association studies. Nature Communications. 2022 Nov 23;13(1):7209.\n",
    "\n",
    "The main working assumption is that we do not have access to individual level genotype or phenotype data. Rather, for each SNP, we have\n",
    "\n",
    "1. Z-scores $Z_j$ with respect to some phenotype from a GWAS, and\n",
    "2. Access to LD (linkage disequilibrium) matrix"
   ]
  },
  {
   "cell_type": "markdown",
   "metadata": {},
   "source": [
    "## Q: When should I use GhostKnockoffGWAS?\n",
    "\n",
    "Answer: If you have already conducted a GWAS and have an output file that includes Z scores (or equivalent) for each SNP.\n",
    "\n",
    "If instead you have individual level genotypes, you should run a GWAS using standard tools (e.g. BOLT, GCTA, SAIGE, GEMMA, ...etc) before running GhostKnockoffGWAS."
   ]
  },
  {
   "cell_type": "markdown",
   "metadata": {},
   "source": [
    "## Typical Workflow\n",
    "\n",
    "Most users are expected to follow this workflow. Those familiar with the Julia programming language can use GhostKnockoffGWAS as a regular julia package, see [usage within Julia](https://biona001.github.io/GhostKnockoffGWAS/dev/man/julia).\n",
    "\n",
    "1. Download the [binary executable file]() (XXX GB)\n",
    "2. Download the [pre-computed knockoff statistics](https://drive.google.com/file/d/1_ajlxFWE2MCSgBXDgDbeZh9Lq721WANA/view) (8.2GB)\n",
    "3. Unzip both datasets\n",
    "4. Prepare your input Z score file into accepted format, see [Acceptable Z-scores](https://biona001.github.io/GhostKnockoffGWAS/dev/man/getting_started/#Acceptable-Z-scores-file-format) below. \n",
    "5. Run the executable, see [running the executable](https://biona001.github.io/GhostKnockoffGWAS/dev/man/getting_started/#Running-the-executable)"
   ]
  },
  {
   "cell_type": "markdown",
   "metadata": {},
   "source": [
    "## Running the executable\n",
    "\n",
    "```shell\n",
    "usage: <PROGRAM> --zfile ZFILE --knockoff-dir KNOCKOFF-DIR --N N\n",
    "                 --genome-build GENOME-BUILD --out OUT [--seed SEED]\n",
    "                 [--verbose VERBOSE]\n",
    "                 [--skip_shrinkage_check SKIP_SHRINKAGE_CHECK] [-h]\n",
    "\n",
    "optional arguments:\n",
    "  --zfile ZFILE         Tab or comma separated summary Z-score file,\n",
    "                        which can be .gz compressed. The first row\n",
    "                        must be a header line that contains at least\n",
    "                        CHR, POS, REF, ALT, and Z (other columns will\n",
    "                        be ignored). Each row should be a SNP. CHR is\n",
    "                        the chromosome column and must be integer\n",
    "                        valued (e.g. chr22, , sex chromosomes, and\n",
    "                        missing values are NOT valid). POS is the SNP\n",
    "                        (aligned to HG19 or HG38) and cannot be\n",
    "                        missing. REF the position of and ALT are the\n",
    "                        reference and alternate alleles, which will be\n",
    "                        treated as the non-effective and effect\n",
    "                        alleles, respectively, and also cannot be\n",
    "                        missing. Finally, Z is the Z-score column.\n",
    "                        Missing Z scores can be specified as NaN or as\n",
    "                        an empty cell.\n",
    "  --knockoff-dir KNOCKOFF-DIR\n",
    "                        Path to the directory storing pre-processed\n",
    "                        knockoff files\n",
    "  --N N                 Sample size for target (original) study (type:\n",
    "                        Int64)\n",
    "  --genome-build GENOME-BUILD\n",
    "                        Specifies the human genome build for the\n",
    "                        target (original) study. Must be 19 (hg19) or\n",
    "                        38 (hg38). (type: Int64)\n",
    "  --out OUT             Output file prefix (without extensions)\n",
    "  --seed SEED           Sets the random seed (type: Int64, default:\n",
    "                        2023)\n",
    "  --verbose VERBOSE     Whether to print intermediate messages (type:\n",
    "                        Bool, default: true)\n",
    "  --skip_shrinkage_check SKIP_SHRINKAGE_CHECK\n",
    "                        Whether to allow Knockoff analysis to proceed\n",
    "                        even with large (>0.25) LD shrinkages. Only\n",
    "                        use this option if you know what you are\n",
    "                        doing.  (type: Bool, default: true)\n",
    "  -h, --help            show this help message and exit\n",
    "```\n",
    "\n",
    "Example run:\n",
    "```shell\n",
    "./GhostKnockoffGWAS \\\n",
    "    --zfile ../../data/AD_Zscores_Meta_modified.txt \\\n",
    "    --knockoff-dir ../../data/EUR \\\n",
    "    --N 506200 \\\n",
    "    --genome-build 38 \\\n",
    "    --out ../../data/test_alzheimers_meta\n",
    "```"
   ]
  },
  {
   "cell_type": "markdown",
   "metadata": {},
   "source": [
    "\n",
    "## Acceptable Z-scores file format\n",
    "\n",
    "The Z score file should satisfy the following requirements:\n",
    "1. It is a comma- or tab-separated file (.gz compressed is acceptable)\n",
    "2. The first row should be a header line, and every row after the first will be treated as a different SNP. \n",
    "3. The header line should include `CHR`, `POS`, `REF`, `ALT`, and `Z`. The `ALT` allele will be treated as the effect allele and `REF` be treated as non-effect allele. The POS (position) field of each variant must be from HG19 or HG38, which must be specified by the `--genome-build` argument. CHR/POS/REF/ALT fields cannot have missing values. Missing Z scores can be specified as `NaN` or as an empty cell.\n",
    "\n",
    "If you have p-values, effect sizes, odds ratios...etc but not Z scores, you can convert them into Z score, for example by following the *Notes on computing Z-scores* of [this blog post](https://huwenboshi.github.io/data%20management/2017/11/23/tips-for-formatting-gwas-summary-stats.html). "
   ]
  }
 ],
 "metadata": {
  "kernelspec": {
   "display_name": "Julia 1.7.3",
   "language": "julia",
   "name": "julia-1.7"
  },
  "language_info": {
   "file_extension": ".jl",
   "mimetype": "application/julia",
   "name": "julia",
   "version": "1.7.3"
  }
 },
 "nbformat": 4,
 "nbformat_minor": 2
}
