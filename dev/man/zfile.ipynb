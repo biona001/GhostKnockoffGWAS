{
 "cells": [
  {
   "cell_type": "markdown",
   "metadata": {},
   "source": [
    "# Acceptable Z-scores file format\n",
    "\n",
    "The Z score file should satisfy the following requirements:\n",
    "1. It is a comma- or tab-separated file (.gz compressed is acceptable)\n",
    "2. The first row should be a header line, and every row after the first will be treated as a different SNP. \n",
    "3. The header line should include `CHR`, `POS`, `REF`, `ALT`, and `Z`. The `ALT` allele will be treated as the effect allele and `REF` be treated as non-effect allele. The POS (position) field of each variant must be from HG19 or HG38, which must be specified by the `--genome-build` argument. CHR/POS/REF/ALT fields cannot have missing values. Missing Z scores can be specified as `NaN` or as an empty cell.\n",
    "\n",
    "Here is a minimal example with 10 Z scores\n",
    "\n",
    "```\n",
    "CHR\tPOS\tREF\tALT\tZ\n",
    "17\t150509\tT\tTA\t1.08773561923134\n",
    "17\t151035\tT\tC\t0.703898767202681\n",
    "17\t151041\tG\tA\tNaN\n",
    "17\t151872\tT\tC\t-0.299877259561085\n",
    "17\t152087\tC\tT\t-0.371627135786605\n",
    "17\t152104\tG\tA\t-0.28387322965385\n",
    "17\t152248\tG\tA\t0.901618600934489\n",
    "17\t152427\tG\tA\t1.10987516000804\n",
    "17\t152771\tA\tG\t0.708492545266136\n",
    "```"
   ]
  },
  {
   "cell_type": "markdown",
   "metadata": {},
   "source": [
    "## Requirements on the input Z-scores\n",
    "\n",
    "The input Z-scores (or p-values) must be valid Z-scores, i.e. each has $N(0, 1)$ distribution under the null. [This paper](https://arxiv.org/abs/2310.04030) shows that input Z-scores can be calculated from various marginal association tests, such as \n",
    "+ generalized linear mixed effect model to account for sample relatedness\n",
    "+ saddle point approximation for extreme case-control imbalance\n",
    "+ meta-analysis that aggregates multiple studies."
   ]
  },
  {
   "cell_type": "markdown",
   "metadata": {},
   "source": [
    "## Obtaining Z scores from p-values, odds ratios, or equivalent\n",
    "\n",
    "If you have p-values, effect sizes, odds ratios...etc but not Z scores, you can convert them into Z score, for example by following the *Notes on computing Z-scores* of [this blog post](https://huwenboshi.github.io/data%20management/2017/11/23/tips-for-formatting-gwas-summary-stats.html). "
   ]
  }
 ],
 "metadata": {
  "kernelspec": {
   "display_name": "Julia 1.9.1",
   "language": "julia",
   "name": "julia-1.9"
  },
  "language_info": {
   "file_extension": ".jl",
   "mimetype": "application/julia",
   "name": "julia",
   "version": "1.9.1"
  }
 },
 "nbformat": 4,
 "nbformat_minor": 2
}
