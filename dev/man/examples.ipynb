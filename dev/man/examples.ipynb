{
 "cells": [
  {
   "cell_type": "markdown",
   "metadata": {},
   "source": [
    "# Detailed Example\n",
    "\n",
    "This page collect examples of running the ghost knockoff pipeline. We will cover topics such as installation, examining input data, running the software, and visualizing the output. "
   ]
  },
  {
   "cell_type": "markdown",
   "metadata": {},
   "source": [
    "## Step 1: Download Knockoff files and binary executable\n",
    "\n",
    "1. Download the [binary executable file]() (XXX GB)\n",
    "2. Download the [pre-computed knockoff statistics]\n",
    "\n",
    "The structure of the binary executable folder looks like:\n",
    "\n",
    "We recommend adding `GhostKnockoffGWAS` to `PATH` for easier access."
   ]
  },
  {
   "cell_type": "code",
   "execution_count": null,
   "metadata": {
    "collapsed": true
   },
   "outputs": [],
   "source": []
  },
  {
   "cell_type": "markdown",
   "metadata": {},
   "source": [
    "## Step 2: Prepare a valid Z score file\n",
    "\n",
    "Here is an example of a valid Z-score file\n",
    "\n",
    "```\n",
    "$ head AD_Zscores_Meta_modified.txt\n",
    "\n",
    "CHR\tPOS\tREF\tALT\tZ\n",
    "1\t758351\tA\tG\t1.05551882016081\n",
    "1\t779885\tC\tT\t2.12197306477\n",
    "1\t779987\tA\tG\t1.95791489337\n",
    "1\t782105\tC\tA\t1.91243829548\n",
    "1\t782207\tG\tA\t0.619646889027784\n",
    "1\t785001\tG\tT\t2.29540369149\n",
    "1\t785910\tG\tC\t2.31560217481\n",
    "1\t788511\tG\tC\t-2.46818530405\n",
    "1\t791414\tC\tG\t2.35908619469\n",
    "```\n",
    "+ The first row is a header row which includes `CHR`, `POS`, `REF`, `ALT`, `Z`. Other columns will be ignored. \n",
    "+ Each row is a different SNP and each column is separated by a tab (i.e. `\\t` character) or a comma"
   ]
  },
  {
   "cell_type": "markdown",
   "metadata": {},
   "source": [
    "## Step 3: Running the analysis"
   ]
  },
  {
   "cell_type": "code",
   "execution_count": null,
   "metadata": {
    "collapsed": true
   },
   "outputs": [],
   "source": []
  },
  {
   "cell_type": "markdown",
   "metadata": {},
   "source": [
    "## Step 4: Interpreting the result"
   ]
  },
  {
   "cell_type": "code",
   "execution_count": null,
   "metadata": {
    "collapsed": true
   },
   "outputs": [],
   "source": []
  },
  {
   "cell_type": "code",
   "execution_count": null,
   "metadata": {
    "collapsed": true
   },
   "outputs": [],
   "source": []
  }
 ],
 "metadata": {
  "kernelspec": {
   "display_name": "Julia 1.9.1",
   "language": "julia",
   "name": "julia-1.9"
  },
  "language_info": {
   "file_extension": ".jl",
   "mimetype": "application/julia",
   "name": "julia",
   "version": "1.9.1"
  }
 },
 "nbformat": 4,
 "nbformat_minor": 2
}
