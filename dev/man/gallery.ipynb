{
 "cells": [
  {
   "cell_type": "markdown",
   "metadata": {},
   "source": [
    "# Gallery\n",
    "\n",
    "We applied `GhostKnockoffGWAS` to 400+ phenotypes currated by Mike Gloudemans, available [here](https://github.com/mikegloudemans/gwas-download). Below showcases some of these results, limiting the study population to EUR ancestry.\n",
    "\n",
    "...coming soon"
   ]
  }
 ],
 "metadata": {
  "kernelspec": {
   "display_name": "Julia 1.10.0",
   "language": "julia",
   "name": "julia-1.10"
  },
  "language_info": {
   "file_extension": ".jl",
   "mimetype": "application/julia",
   "name": "julia",
   "version": "1.10.0"
  }
 },
 "nbformat": 4,
 "nbformat_minor": 2
}
