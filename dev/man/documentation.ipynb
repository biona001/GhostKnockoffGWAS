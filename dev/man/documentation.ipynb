{
 "cells": [
  {
   "cell_type": "markdown",
   "metadata": {},
   "source": [
    "# Command-line documentation and usage of GhostKnockoffGWAS"
   ]
  },
  {
   "cell_type": "markdown",
   "metadata": {},
   "source": [
    "## Usage\n",
    "\n",
    "Simple run\n",
    "\n",
    "```\n",
    "GhostKnockoffGWAS --zfile example_zfile.txt --LD-files EUR --N 506200 --genome-build 38 --out example_output\n",
    "```"
   ]
  },
  {
   "cell_type": "markdown",
   "metadata": {},
   "source": [
    "## Required inputs\n",
    "\n",
    "| Option name              | Argument        | Description   |\n",
    "| :---                    |    :----:   |        |   :---     |\n",
    "| `--zfile`        | String | Input file containing Z-scores as well as CHR/POS/REF/ALT. See [Acceptable Z-score files](https://biona001.github.io/GhostKnockoffGWAS/dev/man/zfile) for detailed requirement on this file. |\n",
    "| `--LD-files`     | String | Input directory to the pre-processed LD files. Most users downloads this from the [Downloads Page](https://biona001.github.io/GhostKnockoffGWAS/dev/man/download) |\n",
    "| `--N`            | Int    | Sample size for target (original) study |\n",
    "| `--genome-build` | Int    | The human genome build used for SNP positions in `zfile` (this value must be 19 or 38) |\n",
    "| `--out`          | String | Output file name (without extensions) |"
   ]
  },
  {
   "cell_type": "markdown",
   "metadata": {},
   "source": [
    "## Optional inputs\n",
    "\n",
    "| Option name              | Argument        | Default | Description   |\n",
    "| :---                    |    :----:   |      :---:     |   :---     |\n",
    "| `--CHR`        | Int    | Whichever column in `zfile` with header `CHR` | The column in `zfile` that will be read as chromosome number (note this must be an integer, e.g. chr22, X, chrX, ...etc are NOT acceptable) |\n",
    "| `--POS`        | Int    | Whichever column in `zfile` with header `POS` | The column in `zfile` that will be read as SNP position |\n",
    "| `--REF`        | Int    | Whichever column in `zfile` with header `REF` | The column in `zfile` that will be read as REF (non-effectiv) allele |\n",
    "| `--ALT`        | Int    | Whichever column in `zfile` with header `ALT` | The column in `zfile` that will be read as ALT (effective allele) |\n",
    "| `--Z`          | Int    | Whichever column in `zfile` with header `Z` | The column in `zfile` that will be read as Z-scores |\n",
    "| `--seed`       | Int    | 2023 | Sets the random seed |\n",
    "| `--verbose`    | Bool   | `true` | Whether to print intermediate messages |\n",
    "| `--random-shuffle` | Bool | `true` | Whether to randomly permute the order of Z-scores and their knockoffs to adjust for potential ordering bias. |\n",
    "| `--skip-shrinkage-check` | Bool | `false` | Whether to allow Knockoff analysis to proceed even with large (>0.25) LD shrinkages |\n"
   ]
  }
 ],
 "metadata": {
  "kernelspec": {
   "display_name": "Julia 1.9.1",
   "language": "julia",
   "name": "julia-1.9"
  },
  "language_info": {
   "file_extension": ".jl",
   "mimetype": "application/julia",
   "name": "julia",
   "version": "1.9.1"
  }
 },
 "nbformat": 4,
 "nbformat_minor": 2
}
