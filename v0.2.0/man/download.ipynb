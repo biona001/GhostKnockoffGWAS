{
 "cells": [
  {
   "cell_type": "markdown",
   "metadata": {},
   "source": [
    "# Downloads page\n",
    "\n",
    "Here is the main downloads page. New software and pre-processed knockoff data will be released here.\n",
    "\n",
    "## Software\n",
    "\n",
    "| Operating System | v0.2.0 (June 27th, 2024)      |\n",
    "| :---             |       :----:               |\n",
    "| Linux 64-bit     | [Download](https://github.com/biona001/GhostKnockoffGWAS/releases/tag/v0.2.0)       |\n",
    "\n",
    "After unzipping, the executable will be located inside `bin/GhostKnockoffGWAS`. We recommend adding the folder containing the `GhostKnockoffGWAS` executable to `PATH` for easier access."
   ]
  },
  {
   "cell_type": "markdown",
   "metadata": {},
   "source": [
    "## Pre-processed LD files\n",
    "\n",
    "| Population              | Link        | Number of SNPs | Description   |\n",
    "| :---                    |    :----:   |      :---:     |   :---:     |\n",
    "| EUR (Europeans)         | [download](https://zenodo.org/records/10433663) (7.5GB)  |650826 |     See **Note 1** |\n",
    "| ASN (East Asians)       | TBD        |       |\n",
    "| AFR (Africans)          | TBD        |       |\n",
    "| AMR (Admixed Americans) | TBD        |       |  |\n",
    "\n",
    "+ **Note 1**: This file contain pre-processed LD files generated from the typed SNPs of the EUR cohort from the Pan-UKB panel. The quasi-independent regions were obtained by directly adapting [the output of ldetect](https://bitbucket.org/nygcresearch/ldetect-data/src/master/EUR/)"
   ]
  }
 ],
 "metadata": {
  "kernelspec": {
   "display_name": "Julia 1.9.4",
   "language": "julia",
   "name": "julia-1.9"
  },
  "language_info": {
   "file_extension": ".jl",
   "mimetype": "application/julia",
   "name": "julia",
   "version": "1.9.4"
  }
 },
 "nbformat": 4,
 "nbformat_minor": 2
}
