{
 "cells": [
  {
   "cell_type": "markdown",
   "metadata": {},
   "source": [
    "# Introduction\n",
    "\n",
    "This package conducts knockoff-based inference to perform genome-wide conditional independent tests based on GWAS summary statistics. The methodology is described in the following papers\n",
    "\n",
    "> Chen Z, He Z, Chu BB, Gu J, Morrison T, Sabatti C, Candes C. \"Controlled Variable Selection from Summary Statistics Only? A Solution via GhostKnockoffs and Penalized Regression\", arXiv preprint arXiv:2402.12724 (2024); doi: [https://doi.org/10.48550/arXiv.2402.12724](https://doi.org/10.48550/arXiv.2402.12724)\n",
    "\n",
    "> Chu BB, Gu J, Chen Z, Morrison T, Candes E, He Z, Sabatti C. (2023). Second-order group knockoffs with applications to GWAS. arXiv preprint arXiv:2310.15069; doi: [https://doi.org/10.48550/arXiv.2310.15069](https://doi.org/10.48550/arXiv.2310.15069)\n",
    "\n",
    "> He Z, Chu BB, Yang J, Gu J, Chen Z, Liu L, Morrison T, Bellow M, Qi X, Hejazi N, Mathur M, Le Guen Y, Tang H, Hastie T, Ionita-laza I, Sabatti C, Candes C. \"In silico identification of putative causal genetic variants\", bioRxiv, 2024.02.28.582621; doi: [https://doi.org/10.1101/2024.02.28.582621](https://doi.org/10.1101/2024.02.28.582621)\n",
    "\n",
    "The main working assumption is that we do not have access to individual level genotype or phenotype data. Rather, for each SNP, we have its Z-scores with respect to some phenotype from a GWAS, and access to LD (linkage disequilibrium) data. The user is expected supply the Z-scores, while we supply the LD data in addition to some pre-computed knockoff data."
   ]
  },
  {
   "cell_type": "markdown",
   "metadata": {},
   "source": [
    "## Q: When should I use GhostKnockoffGWAS?\n",
    "\n",
    "Answer: If you already conducted a GWAS, have an output file that includes Z scores (or equivalent) for each SNP, and there exist pre-processed LD files in [downloads page](https://biona001.github.io/GhostKnockoffGWAS/dev/man/download/) in which the listed population matches the ethnicities for your original GWAS study.\n",
    "\n",
    "+ If your original study had little (e.g. <5) discoveries, then `GhostKnockoffGWAS` may not give better results. The methodology works better for more polygenic traits. \n",
    "+ If your study subjects are somewhat admixed, one can try using the most suitable LD files, and check how much deviation there are from the LD files by examining the `LD_shrinkage` parameter in the output of `GhostKnockoffGWAS`, see [this FAQ](https://biona001.github.io/GhostKnockoffGWAS/dev/man/FAQ/#Is-the-result-is-trustworthy?).\n",
    "+ If instead you have individual level genotypes, you should run a GWAS using standard tools (e.g. PLINK, BOLT, GCTA, SAIGE, GEMMA, ...etc) before running GhostKnockoffGWAS. "
   ]
  },
  {
   "cell_type": "markdown",
   "metadata": {},
   "source": [
    "## Quick Start\n",
    "\n",
    "Most users are expected to follow this workflow. Detailed explanations for each step is available in [Tutorial](https://biona001.github.io/GhostKnockoffGWAS/dev/man/examples/).\n",
    "\n",
    "1. Go to [Download Page](https://biona001.github.io/GhostKnockoffGWAS/dev/man/download) and download (1) the software and (2) the pre-processed LD files. For example,\n",
    "\n",
    "        wget https://github.com/biona001/GhostKnockoffGWAS/releases/download/v0.2.3/app_linux_x86.tar.gz\n",
    "        wget https://zenodo.org/records/10433663/files/EUR.zip\n",
    "2. Unzip them both:\n",
    "\n",
    "        tar -xvzf app_linux_x86.tar.gz\n",
    "        unzip EUR.zip  # decompresses to ~8.7GB\n",
    "3. Prepare your input Z score file into accepted format, see [Acceptable Z-scores](https://biona001.github.io/GhostKnockoffGWAS/dev/man/zfile). A toy example can be downloaded by:\n",
    "\n",
    "        wget https://github.com/biona001/GhostKnockoffGWAS/raw/main/data/example_zfile.txt\n",
    "4. Run the executable\n",
    "\n",
    "        app_linux_x86/bin/GhostKnockoffGWAS --zfile example_zfile.txt --LD-files EUR --N 506200 --genome-build 38 --out example_output\n",
    "        \n",
    "5. Make Manhattan plot with [this R script](https://github.com/biona001/GhostKnockoffGWAS/blob/main/src/manhattan.R). See step 5 in [Tutorial](https://biona001.github.io/GhostKnockoffGWAS/dev/man/examples/) for more details. \n",
    "\n",
    "    \n",
    "\n",
    "Those familiar with the Julia programming language can use GhostKnockoffGWAS as a regular julia package, see [usage within Julia](https://biona001.github.io/GhostKnockoffGWAS/dev/man/julia)."
   ]
  },
  {
   "cell_type": "markdown",
   "metadata": {},
   "source": [
    "## More general knockoff constructions\n",
    "\n",
    "If you are interested in the broader knockoff methodology, not necessarily based on GWAS summary statistics, see for example\n",
    "\n",
    "+ [Wikipedia page](https://en.wikipedia.org/wiki/Knockoffs_%28statistics%29)\n",
    "+ [The main knockoff page](https://web.stanford.edu/group/candes/knockoffs/outline.html)\n",
    "+ [knockoffgwas](https://github.com/msesia/knockoffgwas)\n",
    "+ [Knockoffs.jl](https://github.com/biona001/Knockoffs.jl)\n",
    "+ [knockpy](https://github.com/amspector100/knockpy)\n",
    "+ [knockoff-filter](https://github.com/msesia/knockoff-filter)"
   ]
  }
 ],
 "metadata": {
  "kernelspec": {
   "display_name": "Julia 1.7.3",
   "language": "julia",
   "name": "julia-1.7"
  },
  "language_info": {
   "file_extension": ".jl",
   "mimetype": "application/julia",
   "name": "julia",
   "version": "1.7.3"
  }
 },
 "nbformat": 4,
 "nbformat_minor": 4
}
