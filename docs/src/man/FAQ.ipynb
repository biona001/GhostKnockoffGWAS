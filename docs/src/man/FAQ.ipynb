{
 "cells": [
  {
   "cell_type": "markdown",
   "metadata": {},
   "source": [
    "# Common questions and Answers\n",
    "\n",
    "Here is a collection of common questions & answers. If you have a question not listed here, do not hesitate to open a new issue on Github. \n",
    "\n",
    "## How to handle missing data?\n",
    "\n",
    "## Memory requirement?"
   ]
  }
 ],
 "metadata": {
  "kernelspec": {
   "display_name": "Julia 1.9.1",
   "language": "julia",
   "name": "julia-1.9"
  },
  "language_info": {
   "file_extension": ".jl",
   "mimetype": "application/julia",
   "name": "julia",
   "version": "1.9.1"
  }
 },
 "nbformat": 4,
 "nbformat_minor": 2
}
