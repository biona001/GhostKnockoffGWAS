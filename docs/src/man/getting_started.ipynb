{
 "cells": [
  {
   "cell_type": "markdown",
   "metadata": {},
   "source": [
    "# Getting started with Ghost Knockoff GWAS analysis\n",
    "\n",
    "This tutorial is for generating *Ghost Knockoffs* for analyzing summary statistics from a genome-wide association studies (GWAS). The methodology is described in the following papers\n",
    "\n",
    "> He Z, Liu L, Belloy ME, Le Guen Y, Sossin A, Liu X, Qi X, Ma S, Gyawali PK, Wyss-Coray T, Tang H. GhostKnockoff inference empowers identification of putative causal variants in genome-wide association studies. Nature Communications. 2022 Nov 23;13(1):7209.\n",
    "\n",
    "The main working assumption is that we do not have access to individual level genotype or phenotype data. Rather, for each SNP, we have\n",
    "\n",
    "1. Z-scores $Z_j$ with respect to some phenotype from a GWAS, and\n",
    "2. Access to LD (linkage disequilibrium) matrix\n",
    "\n",
    "## Typical Workflow\n",
    "\n",
    "Most users are expected to follow this workflow. For advanced users, see [Developer documentation](https://biona001.github.io/GhostKnockoffGWAS/dev/man/developer).\n",
    "\n",
    "1. Download the [binary executable file]() (XXX GB)\n",
    "2. Download the [pre-computed knockoff statistics](https://drive.google.com/file/d/1_ajlxFWE2MCSgBXDgDbeZh9Lq721WANA/view) (8.2GB)\n",
    "3. Unzip both datasets\n",
    "4. Prepare your input Z score file into accepted format, see [Acceptable Z-scores](https://biona001.github.io/GhostKnockoffGWAS/dev/man/getting_started/#Acceptable-Z-scores-format) below. \n",
    "5. Run the executable, see [running the executable](https://biona001.github.io/GhostKnockoffGWAS/dev/man/getting_started/#Running-the-executable)\n",
    "\n",
    "## Running the executable\n",
    "\n",
    "To see required inputs (and optional inputs), invoke\n",
    "```shell\n",
    "./GhostKnockoffGWAS --help\n",
    "```\n",
    "\n",
    "Example run:\n",
    "```shell\n",
    "./GhostKnockoffGWAS \\\n",
    "    ../../data/AD_Zscores_Meta_modified.txt \\\n",
    "    ../../data/EUR \\\n",
    "    506200 \\\n",
    "    ../../data/test_alzheimers_meta\n",
    "```\n",
    "\n",
    "## Acceptable Z-scores format\n",
    "\n",
    "The Z score file should satisfy the following requirements:\n",
    "1. It is a comma- or tab-separated file\n",
    "2. The first row should be a header line\n",
    "3. The header line should include `CHR`, `POS`, `REF`, `ALT`. The `ALT` allele will be treated as the effect allele and `REF` be treated as non-effect allele. The position of each variant must be from HG19 or HG38.\n",
    "4. Z scores can be given in 3 ways\n",
    "    1. If a column with the header `Z` exist, then it will be used as Z scores.\n",
    "    2. If `pvalue` and `beta` (effect size) columns both exist, we will transform them into Z scores\n",
    "    3. If `OR` (odds ratio) and `SE` (standard error) columns exist, they will be transformed into Z scores\n"
   ]
  }
 ],
 "metadata": {
  "kernelspec": {
   "display_name": "Julia 1.7.3",
   "language": "julia",
   "name": "julia-1.7"
  },
  "language_info": {
   "file_extension": ".jl",
   "mimetype": "application/julia",
   "name": "julia",
   "version": "1.7.3"
  }
 },
 "nbformat": 4,
 "nbformat_minor": 2
}
