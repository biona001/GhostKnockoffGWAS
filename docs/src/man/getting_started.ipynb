{
 "cells": [
  {
   "cell_type": "markdown",
   "metadata": {},
   "source": [
    "# Getting started with Ghost Knockoff GWAS analysis\n",
    "\n",
    "This package is conducts knockoff-based inference to perform genome-wide conditional independent tests based on summary statistics (e.g. p-values). The methodology is described in the following papers\n",
    "\n",
    "> He Z, Chu BB, Yang J, Gu J, Chen Z, Liu L, Morrison T, Bellow M, Qi X, Hejazi N, Mathur M, Le Guen Y, Tang H, Hastie T, Ionita-laza, I, Sabatti C, Candes C. \"In silico identification of putative causal genetic variants\", bioRxiv 2024. \n",
    "\n",
    "The main working assumption is that we do not have access to individual level genotype or phenotype data. Rather, for each SNP, we have its Z-scores with respect to some phenotype from a GWAS, and access to LD (linkage disequilibrium) data. The user is expected supply the Z-scores, while we supply the LD data in addition to some pre-computed knockoff data."
   ]
  },
  {
   "cell_type": "markdown",
   "metadata": {},
   "source": [
    "## Q: When should I use GhostKnockoffGWAS?\n",
    "\n",
    "Answer: If you already conducted a GWAS, have an output file that includes Z scores (or equivalent) for each SNP, and there exist pre-processed LD files in [downloads page](https://biona001.github.io/GhostKnockoffGWAS/dev/man/download/) in which the listed population matches the ethnicities for your original GWAS study.\n",
    "\n",
    "+ If your original study had little (e.g. <5) discoveries, then `GhostKnockoffGWAS` may not give better results. The methodology works better for more polygenic traits. \n",
    "+ If your study subjects are somewhat admixed, one can try using the most suitable LD files, and check how much deviation there are from the LD files by examining the `LD_shrinkage` parameter in the output of `GhostKnockoffGWAS`, see [this FAQ](https://biona001.github.io/GhostKnockoffGWAS/dev/man/FAQ/#Is-the-result-is-trustworthy?).\n",
    "+ If instead you have individual level genotypes, you should run a GWAS using standard tools (e.g. PLINK, BOLT, GCTA, SAIGE, GEMMA, ...etc) before running GhostKnockoffGWAS. "
   ]
  },
  {
   "cell_type": "markdown",
   "metadata": {},
   "source": [
    "## Typical Workflow\n",
    "\n",
    "Most users are expected to follow this workflow. Those familiar with the Julia programming language can use GhostKnockoffGWAS as a regular julia package, see [usage within Julia](https://biona001.github.io/GhostKnockoffGWAS/dev/man/julia).\n",
    "\n",
    "1. Go to [Download Page](https://biona001.github.io/GhostKnockoffGWAS/dev/man/download) and download (1) the binary executable file and (2) the pre-processed LD files.\n",
    "3. Unzip them\n",
    "4. Prepare your input Z score file into accepted format, see [Acceptable Z-scores](https://biona001.github.io/GhostKnockoffGWAS/dev/man/getting_started/#Acceptable-Z-scores-file-format) below. \n",
    "5. Run the executable, see [running the executable](https://biona001.github.io/GhostKnockoffGWAS/dev/man/getting_started/#Running-the-executable)\n",
    "\n",
    "For a detailed example, see [Detailed Example](https://biona001.github.io/GhostKnockoffGWAS/dev/man/examples/)"
   ]
  },
  {
   "cell_type": "markdown",
   "metadata": {},
   "source": [
    "## Running the executable\n",
    "\n",
    "See [Detailed Examples](https://biona001.github.io/GhostKnockoffGWAS/dev/man/examples) for a analysis example. To see a list of available arguments, execute `GhostKnockoffGWAS --help`. Its output is:\n",
    "\n",
    "```shell\n",
    "usage: <PROGRAM> --zfile ZFILE --LD-files LD-FILES --N N\n",
    "                 --genome-build GENOME-BUILD --out OUT [--seed SEED]\n",
    "                 [--verbose VERBOSE]\n",
    "                 [--skip_shrinkage_check SKIP_SHRINKAGE_CHECK] [-h]\n",
    "\n",
    "optional arguments:\n",
    "  --zfile ZFILE         Tab or comma separated summary Z-score file,\n",
    "                        which can be .gz compressed. The first row\n",
    "                        must be a header line that contains at least\n",
    "                        CHR, POS, REF, ALT, and Z (other columns will\n",
    "                        be ignored). Each row should be a SNP. CHR is\n",
    "                        the chromosome column and must be integer\n",
    "                        valued (e.g. chr22, , sex chromosomes, and\n",
    "                        missing values are NOT valid). POS is the SNP\n",
    "                        (aligned to HG19 or HG38) and cannot be\n",
    "                        missing. REF the position of and ALT are the\n",
    "                        reference and alternate alleles, which will be\n",
    "                        treated as the non-effective and effect\n",
    "                        alleles, respectively, and also cannot be\n",
    "                        missing. Finally, Z is the Z-score column.\n",
    "                        Missing Z scores can be specified as NaN or as\n",
    "                        an empty cell.\n",
    "  --LD-files LD-FILES\n",
    "                        Path to the directory storing pre-processed\n",
    "                        knockoff files\n",
    "  --N N                 Sample size for target (original) study (type:\n",
    "                        Int64)\n",
    "  --genome-build GENOME-BUILD\n",
    "                        Specifies the human genome build for the\n",
    "                        target (original) study. Must be 19 (hg19) or\n",
    "                        38 (hg38). (type: Int64)\n",
    "  --out OUT             Output file prefix (without extensions)\n",
    "  --seed SEED           Sets the random seed (type: Int64, default:\n",
    "                        2023)\n",
    "  --verbose VERBOSE     Whether to print intermediate messages (type:\n",
    "                        Bool, default: true)\n",
    "  --skip_shrinkage_check SKIP_SHRINKAGE_CHECK\n",
    "                        Whether to allow Knockoff analysis to proceed\n",
    "                        even with large (>0.25) LD shrinkages. Only\n",
    "                        use this option if you know what you are\n",
    "                        doing.  (type: Bool, default: true)\n",
    "  -h, --help            show this help message and exit\n",
    "```"
   ]
  }
 ],
 "metadata": {
  "kernelspec": {
   "display_name": "Julia 1.7.3",
   "language": "julia",
   "name": "julia-1.7"
  },
  "language_info": {
   "file_extension": ".jl",
   "mimetype": "application/julia",
   "name": "julia",
   "version": "1.7.3"
  }
 },
 "nbformat": 4,
 "nbformat_minor": 2
}
