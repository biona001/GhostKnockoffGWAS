{
 "cells": [
  {
   "cell_type": "markdown",
   "metadata": {},
   "source": [
    "# Usage within Julia\n",
    "\n",
    "`GhostKnockoffGWAS` is a regular Julia package, which can be used directly within Julia for greater flexibility. To install it, execute the following in Julia\n",
    "```julia\n",
    "using Pkg\n",
    "Pkg.add(url=\"https://github.com/biona001/libcxxwrap_julia_jll.jl\")\n",
    "Pkg.add(url=\"https://github.com/biona001/ghostbasil_jll.jl\")\n",
    "Pkg.add(url=\"https://github.com/biona001/Ghostbasil.jl\")\n",
    "Pkg.add(url=\"https://github.com/biona001/GhostKnockoffGWAS\")\n",
    "```\n",
    "\n",
    "!!! warning\n",
    "\n",
    "    This package currently only works on Julia 1.8.x and 1.9.x. If you need it to work on a different Julia version, let us know by filing an issue on Github. "
   ]
  },
  {
   "cell_type": "markdown",
   "metadata": {},
   "source": [
    "## Usage example\n",
    "\n",
    "The following example performs summary-statistics GWAS under the GhostKnockoff framework."
   ]
  },
  {
   "cell_type": "code",
   "execution_count": null,
   "metadata": {
    "collapsed": true
   },
   "outputs": [],
   "source": [
    "using GhostKnockoffGWAS\n",
    "\n",
    "# file paths and directories\n",
    "LD_files = \"/home/groups/sabatti/.julia/dev/GhostKnockoffGWAS/data/EUR\"\n",
    "zfile = \"/home/groups/sabatti/.julia/dev/GhostKnockoffGWAS/data/AD_Zscores_Meta_modified.txt\"\n",
    "outdir = \"/home/groups/sabatti/.julia/dev/GhostKnockoffGWAS/data\"\n",
    "\n",
    "# specify sample size and human genome build\n",
    "N = 506200\n",
    "hg_build = 38\n",
    "\n",
    "# read Z-scores using built-in function read_zscores\n",
    "z, chr, pos, effect_allele, non_effect_allele = GhostKnockoffGWAS.read_zscores(zfile)\n",
    "\n",
    "# run analysis\n",
    "@time ghostknockoffgwas(LD_files, z, chr, pos, effect_allele, \n",
    "    non_effect_allele, N, hg_build, outdir, outname=\"test_alzheimers_meta\")"
   ]
  },
  {
   "cell_type": "markdown",
   "metadata": {},
   "source": [
    "## Function API\n",
    "\n",
    "```@docs\n",
    "ghostknockoffgwas\n",
    "read_zscores\n",
    "```"
   ]
  },
  {
   "cell_type": "markdown",
   "metadata": {},
   "source": [
    "## Compiling the binaries\n",
    "\n",
    "1. Make sure `GhostKnockoffGWAS` is installed within Julia. \n",
    "2. `dev` the package via\n",
    "```julia\n",
    "]dev GhostKnockoffGWAS\n",
    "```\n",
    "3. compile using [PackageCompiler.jl](https://github.com/JuliaLang/PackageCompiler.jl)\n",
    "```julia\n",
    "using PackageCompiler, GhostKnockoffGWAS\n",
    "src = normpath(pathof(GhostKnockoffGWAS), \"../..\")\n",
    "des = normpath(pathof(GhostKnockoffGWAS), \"../../app_linux_x86\")\n",
    "precompile_script = normpath(pathof(GhostKnockoffGWAS), \"../precompile.jl\")\n",
    "@time create_app(src, des, \n",
    "    include_lazy_artifacts=true, \n",
    "    force=true, \n",
    "    precompile_execution_file=precompile_script\n",
    ")\n",
    "```\n",
    "The last step takes 1-2 hours. "
   ]
  }
 ],
 "metadata": {
  "kernelspec": {
   "display_name": "Julia 1.9.1",
   "language": "julia",
   "name": "julia-1.9"
  },
  "language_info": {
   "file_extension": ".jl",
   "mimetype": "application/julia",
   "name": "julia",
   "version": "1.9.1"
  }
 },
 "nbformat": 4,
 "nbformat_minor": 2
}
